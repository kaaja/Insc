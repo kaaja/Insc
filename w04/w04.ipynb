{
 "cells": [
  {
   "cell_type": "markdown",
   "metadata": {},
   "source": [
    "# 2.29. Weibull: Median, quartile difference"
   ]
  },
  {
   "cell_type": "code",
   "execution_count": 5,
   "metadata": {},
   "outputs": [
    {
     "data": {
      "text/html": [
       "<ol class=list-inline>\n",
       "\t<li>'medX analytical'</li>\n",
       "\t<li>'0.832526275861609'</li>\n",
       "\t<li>'medX simulated'</li>\n",
       "\t<li>'0.834205750802178'</li>\n",
       "\t<li>'qdX analytic'</li>\n",
       "\t<li>'0.641035683848787'</li>\n",
       "\t<li>'qdX simulated'</li>\n",
       "\t<li>'0.645107908022324'</li>\n",
       "</ol>\n"
      ],
      "text/latex": [
       "\\begin{enumerate*}\n",
       "\\item 'medX analytical'\n",
       "\\item '0.832526275861609'\n",
       "\\item 'medX simulated'\n",
       "\\item '0.834205750802178'\n",
       "\\item 'qdX analytic'\n",
       "\\item '0.641035683848787'\n",
       "\\item 'qdX simulated'\n",
       "\\item '0.645107908022324'\n",
       "\\end{enumerate*}\n"
      ],
      "text/markdown": [
       "1. 'medX analytical'\n",
       "2. '0.832526275861609'\n",
       "3. 'medX simulated'\n",
       "4. '0.834205750802178'\n",
       "5. 'qdX analytic'\n",
       "6. '0.641035683848787'\n",
       "7. 'qdX simulated'\n",
       "8. '0.645107908022324'\n",
       "\n",
       "\n"
      ],
      "text/plain": [
       "[1] \"medX analytical\"   \"0.832526275861609\" \"medX simulated\"   \n",
       "[4] \"0.834205750802178\" \"qdX analytic\"      \"0.641035683848787\"\n",
       "[7] \"qdX simulated\"     \"0.645107908022324\""
      ]
     },
     "metadata": {},
     "output_type": "display_data"
    }
   ],
   "source": [
    "alpha <- 2\n",
    "beta <- 1\n",
    "m <- 1e5\n",
    "\n",
    "medX = beta*.6931^(1/alpha)\n",
    "qdX = beta*(1.3863^(1/alpha) - .2877^(1/alpha))\n",
    "\n",
    "X = beta*rexp(m)^(1/alpha) # Weibull function of exp dist\n",
    "\n",
    "X = sort(X)\n",
    "simulatedMedian = X[.5 * m]\n",
    "simulatedQd = X[.75*m] - X[.25*m]\n",
    "\n",
    "c('medX analytical', medX, 'medX simulated', simulatedMedian, 'qdX analytic', qdX, 'qdX simulated', simulatedQd)"
   ]
  },
  {
   "cell_type": "markdown",
   "metadata": {},
   "source": [
    "Good correspondence simulated and analytical.\n",
    "\n",
    "# 2.32. Loss property insurance. Logistic."
   ]
  },
  {
   "cell_type": "code",
   "execution_count": 6,
   "metadata": {},
   "outputs": [
    {
     "data": {
      "text/html": [
       "<ol class=list-inline>\n",
       "\t<li>'Median MC/analytic'</li>\n",
       "\t<li>'1.00235629532677'</li>\n",
       "\t<li>'Qdiff MC/analytic'</li>\n",
       "\t<li>'1.00023727599539'</li>\n",
       "</ol>\n"
      ],
      "text/latex": [
       "\\begin{enumerate*}\n",
       "\\item 'Median MC/analytic'\n",
       "\\item '1.00235629532677'\n",
       "\\item 'Qdiff MC/analytic'\n",
       "\\item '1.00023727599539'\n",
       "\\end{enumerate*}\n"
      ],
      "text/markdown": [
       "1. 'Median MC/analytic'\n",
       "2. '1.00235629532677'\n",
       "3. 'Qdiff MC/analytic'\n",
       "4. '1.00023727599539'\n",
       "\n",
       "\n"
      ],
      "text/plain": [
       "[1] \"Median MC/analytic\" \"1.00235629532677\"   \"Qdiff MC/analytic\" \n",
       "[4] \"1.00023727599539\"  "
      ]
     },
     "metadata": {},
     "output_type": "display_data"
    }
   ],
   "source": [
    "alpha <- 2\n",
    "beta <- 1\n",
    "m <- 1e5\n",
    "\n",
    "medianAnalytic = .916\n",
    "quartileDifferenceAnalytic = 1.299\n",
    "\n",
    "U = runif(m)\n",
    "X = beta*log((1 + U/alpha)/(1 - U))\n",
    "\n",
    "X = sort(X)\n",
    "medianMC = X[.5 *m]\n",
    "quartileDifferenceMC = X[.75*m] - X[.25*m]\n",
    "\n",
    "c('Median MC/analytic', medianMC/medianAnalytic, 'Qdiff MC/analytic', quartileDifferenceMC/quartileDifferenceAnalytic)"
   ]
  },
  {
   "cell_type": "markdown",
   "metadata": {},
   "source": [
    "MC fits very well.\n",
    "# 7.9. -log-likelihood of Pareto\n",
    "Checking how well the ll estimator estimates the parameters for a Pareto distribution when the random variable are drawn randomly from a Pareto distribution with known parameters. How well does the estimated parameters fit the known parameters?"
   ]
  },
  {
   "cell_type": "code",
   "execution_count": 22,
   "metadata": {},
   "outputs": [
    {
     "data": {
      "text/html": [
       "6"
      ],
      "text/latex": [
       "6"
      ],
      "text/markdown": [
       "6"
      ],
      "text/plain": [
       "[1] 6"
      ]
     },
     "metadata": {},
     "output_type": "display_data"
    }
   ],
   "source": [
    "# First: how to construct a basic function in R:\n",
    "tstFunction = function(a,b){\n",
    "    c = a+b\n",
    "    d = 2*c\n",
    "    #return c\n",
    "}\n",
    "\n",
    "# Testing the function\n",
    "a = 1\n",
    "b = 2\n",
    "result = tstFunction(a,b)\n",
    "c(result)\n",
    "# It is the last calculation that is returned (d in this case)"
   ]
  },
  {
   "cell_type": "code",
   "execution_count": 41,
   "metadata": {},
   "outputs": [
    {
     "name": "stdout",
     "output_type": "stream",
     "text": [
      "\n",
      " n:  100 \n",
      "[1] 7.774347 1.869171\n",
      "[1] 13.467832  4.800365\n",
      "[1] 7.276391 2.368249\n",
      "[1] 3.1080095 0.7614932\n",
      "[1] 6.177131 1.703828\n",
      "[1] 5.599404 1.481840\n",
      "[1] 11.444051  4.008011\n",
      "[1] 4.935728 1.142442\n",
      "[1] 206.02611  54.20087\n",
      "[1] 4.863241 1.115101\n",
      "\n",
      " n:  1000 \n",
      "[1] 4.243933 1.100970\n",
      "[1] 3.4196671 0.7963099\n",
      "[1] 3.5174031 0.8308205\n",
      "[1] 4.572542 1.205080\n",
      "[1] 3.405974 0.812920\n",
      "[1] 4.724548 1.407597\n",
      "[1] 5.132685 1.289023\n",
      "[1] 4.591813 1.145002\n",
      "[1] 4.915698 1.298369\n",
      "[1] 3.7046427 0.8707295\n",
      "\n",
      " n:  10000 \n",
      "[1] 3.992348 1.026463\n",
      "[1] 4.200977 1.058326\n",
      "[1] 4.088582 1.023819\n",
      "[1] 3.8759690 0.9643478\n",
      "[1] 4.046530 1.003666\n",
      "[1] 4.271360 1.076791\n",
      "[1] 4.160292 1.038469\n",
      "[1] 4.015874 1.002783\n",
      "[1] 3.8357574 0.9615519\n",
      "[1] 3.899154 0.974758\n"
     ]
    }
   ],
   "source": [
    "# See p 239 for expression\n",
    "llminus = function(beta, z){\n",
    "    alphaHat = 1/mean(log(1 + z/beta))\n",
    "    -log(alphaHat/beta) + (1 + a/alphaHat)\n",
    "}\n",
    "\n",
    "alpha = 4\n",
    "beta = 1\n",
    "mb = 10\n",
    "ns = c(1e2, 1e3, 1e4)\n",
    "\n",
    "estimateParetoParameters = function(mb, n){\n",
    "    cat('\\n n: ', n, '\\n')\n",
    "    #print(c('\\n ', n))\n",
    "    for (i in 1:mb){\n",
    "        z = beta*(runif(n)**(-1/alpha) - 1) # Pareto distribution\n",
    "        o = optimize(llminus, c(.001, 1000), z = z) # Localizing maximum of LL function\n",
    "        betaHat = o[[1]]\n",
    "        alphaHat = 1/mean(log(1 + z/betaHat))\n",
    "        print(c(alphaHat, betaHat))\n",
    "    }\n",
    "}\n",
    "\n",
    "for (n in ns){\n",
    "    estimateParetoParameters(mb, n)\n",
    "}"
   ]
  },
  {
   "cell_type": "markdown",
   "metadata": {},
   "source": [
    "Accuracy becomes good for large $n$.\n",
    "\n",
    "# 7.11"
   ]
  }
 ],
 "metadata": {
  "kernelspec": {
   "display_name": "R",
   "language": "R",
   "name": "ir"
  },
  "language_info": {
   "codemirror_mode": "r",
   "file_extension": ".r",
   "mimetype": "text/x-r-source",
   "name": "R",
   "pygments_lexer": "r",
   "version": "3.5.0"
  }
 },
 "nbformat": 4,
 "nbformat_minor": 2
}
