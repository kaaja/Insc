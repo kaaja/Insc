{
 "cells": [
  {
   "cell_type": "markdown",
   "metadata": {},
   "source": [
    "# 2.29. Weibull: Median, quartile difference"
   ]
  },
  {
   "cell_type": "code",
   "execution_count": 5,
   "metadata": {},
   "outputs": [
    {
     "data": {
      "text/html": [
       "<ol class=list-inline>\n",
       "\t<li>'medX analytical'</li>\n",
       "\t<li>'0.832526275861609'</li>\n",
       "\t<li>'medX simulated'</li>\n",
       "\t<li>'0.834205750802178'</li>\n",
       "\t<li>'qdX analytic'</li>\n",
       "\t<li>'0.641035683848787'</li>\n",
       "\t<li>'qdX simulated'</li>\n",
       "\t<li>'0.645107908022324'</li>\n",
       "</ol>\n"
      ],
      "text/latex": [
       "\\begin{enumerate*}\n",
       "\\item 'medX analytical'\n",
       "\\item '0.832526275861609'\n",
       "\\item 'medX simulated'\n",
       "\\item '0.834205750802178'\n",
       "\\item 'qdX analytic'\n",
       "\\item '0.641035683848787'\n",
       "\\item 'qdX simulated'\n",
       "\\item '0.645107908022324'\n",
       "\\end{enumerate*}\n"
      ],
      "text/markdown": [
       "1. 'medX analytical'\n",
       "2. '0.832526275861609'\n",
       "3. 'medX simulated'\n",
       "4. '0.834205750802178'\n",
       "5. 'qdX analytic'\n",
       "6. '0.641035683848787'\n",
       "7. 'qdX simulated'\n",
       "8. '0.645107908022324'\n",
       "\n",
       "\n"
      ],
      "text/plain": [
       "[1] \"medX analytical\"   \"0.832526275861609\" \"medX simulated\"   \n",
       "[4] \"0.834205750802178\" \"qdX analytic\"      \"0.641035683848787\"\n",
       "[7] \"qdX simulated\"     \"0.645107908022324\""
      ]
     },
     "metadata": {},
     "output_type": "display_data"
    }
   ],
   "source": [
    "alpha <- 2\n",
    "beta <- 1\n",
    "m <- 1e5\n",
    "\n",
    "medX = beta*.6931^(1/alpha)\n",
    "qdX = beta*(1.3863^(1/alpha) - .2877^(1/alpha))\n",
    "\n",
    "X = beta*rexp(m)^(1/alpha) # Weibull function of exp dist\n",
    "\n",
    "X = sort(X)\n",
    "simulatedMedian = X[.5 * m]\n",
    "simulatedQd = X[.75*m] - X[.25*m]\n",
    "\n",
    "c('medX analytical', medX, 'medX simulated', simulatedMedian, 'qdX analytic', qdX, 'qdX simulated', simulatedQd)"
   ]
  },
  {
   "cell_type": "markdown",
   "metadata": {},
   "source": [
    "Good correspondence simulated and analytical.\n",
    "\n",
    "# 2.32. Loss property insurance. Logistic."
   ]
  },
  {
   "cell_type": "code",
   "execution_count": 6,
   "metadata": {},
   "outputs": [
    {
     "data": {
      "text/html": [
       "<ol class=list-inline>\n",
       "\t<li>'Median MC/analytic'</li>\n",
       "\t<li>'1.00235629532677'</li>\n",
       "\t<li>'Qdiff MC/analytic'</li>\n",
       "\t<li>'1.00023727599539'</li>\n",
       "</ol>\n"
      ],
      "text/latex": [
       "\\begin{enumerate*}\n",
       "\\item 'Median MC/analytic'\n",
       "\\item '1.00235629532677'\n",
       "\\item 'Qdiff MC/analytic'\n",
       "\\item '1.00023727599539'\n",
       "\\end{enumerate*}\n"
      ],
      "text/markdown": [
       "1. 'Median MC/analytic'\n",
       "2. '1.00235629532677'\n",
       "3. 'Qdiff MC/analytic'\n",
       "4. '1.00023727599539'\n",
       "\n",
       "\n"
      ],
      "text/plain": [
       "[1] \"Median MC/analytic\" \"1.00235629532677\"   \"Qdiff MC/analytic\" \n",
       "[4] \"1.00023727599539\"  "
      ]
     },
     "metadata": {},
     "output_type": "display_data"
    }
   ],
   "source": [
    "alpha <- 2\n",
    "beta <- 1\n",
    "m <- 1e5\n",
    "\n",
    "medianAnalytic = .916\n",
    "quartileDifferenceAnalytic = 1.299\n",
    "\n",
    "U = runif(m)\n",
    "X = beta*log((1 + U/alpha)/(1 - U))\n",
    "\n",
    "X = sort(X)\n",
    "medianMC = X[.5 *m]\n",
    "quartileDifferenceMC = X[.75*m] - X[.25*m]\n",
    "\n",
    "c('Median MC/analytic', medianMC/medianAnalytic, 'Qdiff MC/analytic', quartileDifferenceMC/quartileDifferenceAnalytic)"
   ]
  },
  {
   "cell_type": "markdown",
   "metadata": {},
   "source": [
    "MC fits very well.\n",
    "# 7.9. -log-likelihood of Pareto\n",
    "Checking how well the ll estimator estimates the parameters for a Pareto distribution when the random variable are drawn randomly from a Pareto distribution with known parameters. How well does the estimated parameters fit the known parameters?"
   ]
  },
  {
   "cell_type": "code",
   "execution_count": 22,
   "metadata": {},
   "outputs": [
    {
     "data": {
      "text/html": [
       "6"
      ],
      "text/latex": [
       "6"
      ],
      "text/markdown": [
       "6"
      ],
      "text/plain": [
       "[1] 6"
      ]
     },
     "metadata": {},
     "output_type": "display_data"
    }
   ],
   "source": [
    "# First: how to construct a basic function in R:\n",
    "tstFunction = function(a,b){\n",
    "    c = a+b\n",
    "    d = 2*c\n",
    "    #return c\n",
    "}\n",
    "\n",
    "# Testing the function\n",
    "a = 1\n",
    "b = 2\n",
    "result = tstFunction(a,b)\n",
    "c(result)\n",
    "# It is the last calculation that is returned (d in this case)"
   ]
  },
  {
   "cell_type": "code",
   "execution_count": 41,
   "metadata": {},
   "outputs": [
    {
     "name": "stdout",
     "output_type": "stream",
     "text": [
      "\n",
      " n:  100 \n",
      "[1] 7.774347 1.869171\n",
      "[1] 13.467832  4.800365\n",
      "[1] 7.276391 2.368249\n",
      "[1] 3.1080095 0.7614932\n",
      "[1] 6.177131 1.703828\n",
      "[1] 5.599404 1.481840\n",
      "[1] 11.444051  4.008011\n",
      "[1] 4.935728 1.142442\n",
      "[1] 206.02611  54.20087\n",
      "[1] 4.863241 1.115101\n",
      "\n",
      " n:  1000 \n",
      "[1] 4.243933 1.100970\n",
      "[1] 3.4196671 0.7963099\n",
      "[1] 3.5174031 0.8308205\n",
      "[1] 4.572542 1.205080\n",
      "[1] 3.405974 0.812920\n",
      "[1] 4.724548 1.407597\n",
      "[1] 5.132685 1.289023\n",
      "[1] 4.591813 1.145002\n",
      "[1] 4.915698 1.298369\n",
      "[1] 3.7046427 0.8707295\n",
      "\n",
      " n:  10000 \n",
      "[1] 3.992348 1.026463\n",
      "[1] 4.200977 1.058326\n",
      "[1] 4.088582 1.023819\n",
      "[1] 3.8759690 0.9643478\n",
      "[1] 4.046530 1.003666\n",
      "[1] 4.271360 1.076791\n",
      "[1] 4.160292 1.038469\n",
      "[1] 4.015874 1.002783\n",
      "[1] 3.8357574 0.9615519\n",
      "[1] 3.899154 0.974758\n"
     ]
    }
   ],
   "source": [
    "# See p 239 for expression\n",
    "llminus = function(beta, z){\n",
    "    alphaHat = 1/mean(log(1 + z/beta))\n",
    "    -log(alphaHat/beta) + (1 + a/alphaHat)\n",
    "}\n",
    "\n",
    "alpha = 4\n",
    "beta = 1\n",
    "mb = 10\n",
    "ns = c(1e2, 1e3, 1e4)\n",
    "\n",
    "estimateParetoParameters = function(mb, n){\n",
    "    cat('\\n n: ', n, '\\n')\n",
    "    #print(c('\\n ', n))\n",
    "    for (i in 1:mb){\n",
    "        z = beta*(runif(n)**(-1/alpha) - 1) # Pareto distribution\n",
    "        o = optimize(llminus, c(.001, 1000), z = z) # Localizing maximum of LL function\n",
    "        betaHat = o[[1]]\n",
    "        alphaHat = 1/mean(log(1 + z/betaHat))\n",
    "        print(c(alphaHat, betaHat))\n",
    "    }\n",
    "}\n",
    "\n",
    "for (n in ns){\n",
    "    estimateParetoParameters(mb, n)\n",
    "}"
   ]
  },
  {
   "cell_type": "markdown",
   "metadata": {},
   "source": [
    "Accuracy becomes good for large $n$.\n",
    "\n",
    "# 7.11. Weibull and ML. "
   ]
  },
  {
   "cell_type": "code",
   "execution_count": 5,
   "metadata": {},
   "outputs": [
    {
     "data": {
      "image/png": "[encoded data removed]",
      "text/plain": [
       "plot without title"
      ]
     },
     "metadata": {},
     "output_type": "display_data"
    }
   ],
   "source": [
    "alpha = .6\n",
    "beta = 1\n",
    "n = 500\n",
    "\n",
    "llminus = function(alpha, z){\n",
    "    betaHat = mean(z**alpha)**(1/alpha)\n",
    "    -sum(dweibull(z, alpha, betaHat, log=T)) # I think this is the log LL with optimal beta\n",
    "}\n",
    "\n",
    "z = rweibull(n, alpha, beta)\n",
    "a1 = .1\n",
    "a2 = 2.1\n",
    "a = a1 + 0:100*(a2-a1)*.01\n",
    "lmin = a\n",
    "for (i in 1:101){\n",
    "    lmin[i] = llminus(a[i], z)\n",
    "}\n",
    "plot(a, lmin)\n",
    "abline(v = alpha, lty=2, lwd=2)"
   ]
  },
  {
   "cell_type": "markdown",
   "metadata": {},
   "source": [
    "We see that the minimum $\\alpha$ is close to the true minimum."
   ]
  },
  {
   "cell_type": "code",
   "execution_count": 58,
   "metadata": {},
   "outputs": [
    {
     "data": {
      "text/html": [
       "<ol class=list-inline>\n",
       "\t<li>'aHat/alpha'</li>\n",
       "\t<li>'0,957893694479897'</li>\n",
       "\t<li>'bHat/beta'</li>\n",
       "\t<li>'1,07492155469405'</li>\n",
       "</ol>\n"
      ],
      "text/latex": [
       "\\begin{enumerate*}\n",
       "\\item 'aHat/alpha'\n",
       "\\item '0,957893694479897'\n",
       "\\item 'bHat/beta'\n",
       "\\item '1,07492155469405'\n",
       "\\end{enumerate*}\n"
      ],
      "text/markdown": [
       "1. 'aHat/alpha'\n",
       "2. '0,957893694479897'\n",
       "3. 'bHat/beta'\n",
       "4. '1,07492155469405'\n",
       "\n",
       "\n"
      ],
      "text/plain": [
       "[1] \"aHat/alpha\"        \"0,957893694479897\" \"bHat/beta\"        \n",
       "[4] \"1,07492155469405\" "
      ]
     },
     "metadata": {},
     "output_type": "display_data"
    }
   ],
   "source": [
    "# alpha and beta by identification of minimum in above figure\n",
    "\n",
    "o = optimize(llminus, c(.001, 50), z = z)\n",
    "aHat = o[[1]]\n",
    "betaHat = mean(z**aHat)**(1/aHat)\n",
    "c('aHat/alpha', aHat/alpha, 'bHat/beta', betaHat/beta)\n"
   ]
  },
  {
   "cell_type": "markdown",
   "metadata": {},
   "source": [
    "Good fit.<br>\n",
    "__Relation to previous exercise:__ <br>\n",
    "Here we only draw one sample, while in ex 7.9 we drew 10. However, ex 7.9 showed that when n in the MC sims are high, the results converge over the samples, so only one sample is necessary. <br>\n",
    "\n",
    "__Summary:__<br>\n",
    "1) Generate random variables (from Weibull here). <br>\n",
    "2) Plot log likelihood of generated random variables. <br>\n",
    "3) Observe where optimal alpha in the plottet LL is. <br>\n",
    "4) Solve for optimal alpha by optimization. <br>\n",
    "5) Compare solved optimal alpha to optimal alpha from plot. Correspondence indicates that the optimizer works. <br>\n",
    "6) Compare solved optimal alpha to alpha put in to the random variable generations (the real alpha). This shows whether the LL estimate fits well. <br>\n",
    "\n",
    "__Note:__ The LL function assumes the distribution. <mark> I think this i wrong. It is just used as input, it varies, so that we can make a plot. So, we do not give a specicific \"true\" alpha in to the LL function.\n",
    "\n",
    "# 7.12: Weibull on real data\n",
    "\n",
    "### Calculate LL on observations assuming Weibull with parameters as in previous exercise."
   ]
  },
  {
   "cell_type": "code",
   "execution_count": 22,
   "metadata": {},
   "outputs": [
    {
     "data": {
      "image/png": "[encoded data removed]",
      "text/plain": [
       "plot without title"
      ]
     },
     "metadata": {},
     "output_type": "display_data"
    }
   ],
   "source": [
    "path = 'https://www.uio.no/studier/emner/matnat/math/STK3505/h17/datasett/belgianfire.txt'\n",
    "z = scan(path)\n",
    "\n",
    "llminus = function(alpha, z){\n",
    "    betaHat = mean(z**alpha)**(1/alpha)\n",
    "    -sum(dweibull(z, alpha, betaHat, log=T)) # I think this is the log LL with optimal beta\n",
    "}\n",
    "\n",
    "\n",
    "a1 = .1\n",
    "a2 = 2.1\n",
    "a = a1 + 0:100*(a2-a1)*.01\n",
    "lmin = a\n",
    "for (i in 1:101){\n",
    "    lmin[i] = llminus(a[i], z)\n",
    "}\n",
    "plot(a, lmin)\n",
    "# THe follwing was wrong, we have no true alpha here.\n",
    "#alpha = 0.6 # Assumed, just used value from previous exercise\n",
    "#beta = 1\n",
    "#abline(v = alpha, lty=2, lwd=2)"
   ]
  },
  {
   "cell_type": "markdown",
   "metadata": {},
   "source": [
    "<mark> The following is a misundertanding commented upon above and below. Above is is commented after \"note\". <mark> \n",
    "\n",
    "The fit is bad. The minimum is not reached for the \"true\" optimal alpha, alpha = 0.6. This is maybe not surprising, given the results in exercise 7.9, where we showed that the accuracy is sensitive to the number of data points. Here the number of data points is low.<br>\n",
    "\n",
    "<mark> But we don't know the true alpha, so one must maybe work iteratively, feeding in different alphas and stopping when the opimal alpha in the plot equals the \"true alpha\" fed in? <mark> <br>\n",
    "\n",
    "<mark> Another possibility can be to ignore the discrepancy between true alpha and opitmal alpha in the plot and only look at the LL value for the different optimal alphas, and choosing the true alpha that gives the lowest LL at optimal alpha? <mark> \n",
    "    \n",
    "### Find optimal alpha"
   ]
  },
  {
   "cell_type": "code",
   "execution_count": 20,
   "metadata": {},
   "outputs": [
    {
     "data": {
      "text/html": [
       "<ol class=list-inline>\n",
       "\t<li>'alphaHat'</li>\n",
       "\t<li>'0,934458257011918'</li>\n",
       "\t<li>'betaHat'</li>\n",
       "\t<li>'20,2576688543336'</li>\n",
       "</ol>\n"
      ],
      "text/latex": [
       "\\begin{enumerate*}\n",
       "\\item 'alphaHat'\n",
       "\\item '0,934458257011918'\n",
       "\\item 'betaHat'\n",
       "\\item '20,2576688543336'\n",
       "\\end{enumerate*}\n"
      ],
      "text/markdown": [
       "1. 'alphaHat'\n",
       "2. '0,934458257011918'\n",
       "3. 'betaHat'\n",
       "4. '20,2576688543336'\n",
       "\n",
       "\n"
      ],
      "text/plain": [
       "[1] \"alphaHat\"          \"0,934458257011918\" \"betaHat\"          \n",
       "[4] \"20,2576688543336\" "
      ]
     },
     "metadata": {},
     "output_type": "display_data"
    },
    {
     "data": {
      "text/html": [
       "<ol class=list-inline>\n",
       "\t<li>'alphaHatDev'</li>\n",
       "\t<li>'1,5574304283532'</li>\n",
       "\t<li>'betaHatDev'</li>\n",
       "\t<li>'20,2576688543336'</li>\n",
       "</ol>\n"
      ],
      "text/latex": [
       "\\begin{enumerate*}\n",
       "\\item 'alphaHatDev'\n",
       "\\item '1,5574304283532'\n",
       "\\item 'betaHatDev'\n",
       "\\item '20,2576688543336'\n",
       "\\end{enumerate*}\n"
      ],
      "text/markdown": [
       "1. 'alphaHatDev'\n",
       "2. '1,5574304283532'\n",
       "3. 'betaHatDev'\n",
       "4. '20,2576688543336'\n",
       "\n",
       "\n"
      ],
      "text/plain": [
       "[1] \"alphaHatDev\"      \"1,5574304283532\"  \"betaHatDev\"       \"20,2576688543336\""
      ]
     },
     "metadata": {},
     "output_type": "display_data"
    }
   ],
   "source": [
    "o = optimize(llminus, c(0.0001, 50), z = z)\n",
    "alphaHat = o[[1]]\n",
    "betaHat = mean(z**alphaHat)**(1/alphaHat)\n",
    "c('alphaHat', alphaHat, 'betaHat', betaHat)\n",
    "c('alphaHatDev', alphaHat/alpha, 'betaHatDev', betaHat/beta)"
   ]
  },
  {
   "cell_type": "markdown",
   "metadata": {},
   "source": [
    "Large deviations from assumed true parameters. <br>\n",
    "\n",
    "__Note:__ Changing alpha to 0.9, does not change alphaHat. Now there is a good correspondence between alpha and alpha optimum. <mark> Same comment as above: alpha does not matter, there is no true alpha that is fed into the ll function.\n",
    "    \n",
    "### Weibull, observed, QQ\n",
    "Idea: draw random Rainbull based on estimates above, which are based on the true values, and check the results against the true values."
   ]
  },
  {
   "cell_type": "code",
   "execution_count": 26,
   "metadata": {},
   "outputs": [
    {
     "data": {
      "image/png": "[encoded data removed]",
      "text/plain": [
       "plot without title"
      ]
     },
     "metadata": {},
     "output_type": "display_data"
    }
   ],
   "source": [
    "u = (1:60-0.5)/60 # Uniform distribution [0,1]\n",
    "q = qweibull(u, alphaHat, betaHat)\n",
    "plot(sort(z), q)"
   ]
  },
  {
   "cell_type": "markdown",
   "metadata": {},
   "source": [
    "Pretty linear $\\rightarrow$ Weibull not a too bad guess.\n",
    "\n",
    "# 7.15 density t, LL"
   ]
  },
  {
   "cell_type": "code",
   "execution_count": 101,
   "metadata": {},
   "outputs": [
    {
     "name": "stderr",
     "output_type": "stream",
     "text": [
      "Warning message in dt((x - theta[1])/exp(theta[2]), df = 2 * theta[3], log = T):\n",
      "“NaNs produced”Warning message in dt((x - theta[1])/exp(theta[2]), df = 2 * theta[3], log = T):\n",
      "“NaNs produced”"
     ]
    },
    {
     "data": {
      "text/html": [
       "<table>\n",
       "<tbody>\n",
       "\t<tr><td>0,0006171244</td><td>0,0004099682</td><td>0,0003673948</td><td>0,0004793926</td></tr>\n",
       "\t<tr><td>0,0061944920</td><td>0,0082044985</td><td>0,0058237557</td><td>0,0070883426</td></tr>\n",
       "\t<tr><td>1,7678481560</td><td>1,9980025479</td><td>1,7540874382</td><td>1,6471738663</td></tr>\n",
       "</tbody>\n",
       "</table>\n"
      ],
      "text/latex": [
       "\\begin{tabular}{llll}\n",
       "\t 0,0006171244 & 0,0004099682 & 0,0003673948 & 0,0004793926\\\\\n",
       "\t 0,0061944920 & 0,0082044985 & 0,0058237557 & 0,0070883426\\\\\n",
       "\t 1,7678481560 & 1,9980025479 & 1,7540874382 & 1,6471738663\\\\\n",
       "\\end{tabular}\n"
      ],
      "text/markdown": [
       "\n",
       "| 0,0006171244 | 0,0004099682 | 0,0003673948 | 0,0004793926 | \n",
       "| 0,0061944920 | 0,0082044985 | 0,0058237557 | 0,0070883426 | \n",
       "| 1,7678481560 | 1,9980025479 | 1,7540874382 | 1,6471738663 | \n",
       "\n",
       "\n"
      ],
      "text/plain": [
       "     [,1]         [,2]         [,3]         [,4]        \n",
       "[1,] 0,0006171244 0,0004099682 0,0003673948 0,0004793926\n",
       "[2,] 0,0061944920 0,0082044985 0,0058237557 0,0070883426\n",
       "[3,] 1,7678481560 1,9980025479 1,7540874382 1,6471738663"
      ]
     },
     "metadata": {},
     "output_type": "display_data"
    },
    {
     "data": {
      "text/html": [
       "<ol class=list-inline>\n",
       "\t<li>0,00939919154976945</li>\n",
       "\t<li>0,0116087173049497</li>\n",
       "\t<li>0,00888214620814564</li>\n",
       "\t<li>0,0113084721660121</li>\n",
       "</ol>\n"
      ],
      "text/latex": [
       "\\begin{enumerate*}\n",
       "\\item 0,00939919154976945\n",
       "\\item 0,0116087173049497\n",
       "\\item 0,00888214620814564\n",
       "\\item 0,0113084721660121\n",
       "\\end{enumerate*}\n"
      ],
      "text/markdown": [
       "1. 0,00939919154976945\n",
       "2. 0,0116087173049497\n",
       "3. 0,00888214620814564\n",
       "4. 0,0113084721660121\n",
       "\n",
       "\n"
      ],
      "text/plain": [
       "[1] 0,009399192 0,011608717 0,008882146 0,011308472"
      ]
     },
     "metadata": {},
     "output_type": "display_data"
    },
    {
     "data": {
      "text/html": [
       "<ol class=list-inline>\n",
       "\t<li>0,00969037955032435</li>\n",
       "\t<li>0,0119302864553791</li>\n",
       "\t<li>0,00910128721054474</li>\n",
       "\t<li>0,0123894853894913</li>\n",
       "</ol>\n"
      ],
      "text/latex": [
       "\\begin{enumerate*}\n",
       "\\item 0,00969037955032435\n",
       "\\item 0,0119302864553791\n",
       "\\item 0,00910128721054474\n",
       "\\item 0,0123894853894913\n",
       "\\end{enumerate*}\n"
      ],
      "text/markdown": [
       "1. 0,00969037955032435\n",
       "2. 0,0119302864553791\n",
       "3. 0,00910128721054474\n",
       "4. 0,0123894853894913\n",
       "\n",
       "\n"
      ],
      "text/plain": [
       "[1] 0,009690380 0,011930286 0,009101287 0,012389485"
      ]
     },
     "metadata": {},
     "output_type": "display_data"
    }
   ],
   "source": [
    "# LL Minus function, straight from the book\n",
    "llminus = function(theta, x){\n",
    "    length(x)*theta[2] - sum(dt((x - theta[1])/exp(theta[2]), df = 2*theta[3], log = T))\n",
    "}\n",
    "\n",
    "# theta must be parameters vector (theta here instead of alpha and beta above.)\n",
    "\n",
    "# Create running function\n",
    "simulate = function(xMat){\n",
    "    thetaMat <- matrix(0,3,ncol(xMat)+1)\n",
    "    for (i in 1:ncol(xMat)){\n",
    "        x = xMat[,i]\n",
    "        theta = c(mean(x), log(sd(x)), 10) # NOTE: Does not work with \"1\"\n",
    "        o = optim(theta, llminus, x=x) # NOTE: \"optimize\" did not work\n",
    "        xsiHat = o$par[1]\n",
    "        xsiSigmaHat = exp(o$par[2])\n",
    "        alphaHat = o$par[3]\n",
    "        thetaMat[, i] = o$par       \n",
    "    }\n",
    "}\n",
    "\n",
    "path = 'https://www.uio.no/studier/emner/matnat/math/STK3505/h17/datasett/newyork.daily.txt'\n",
    "xMat = matrix(scan(path), byrow=T, ncol=4)\n",
    "\n",
    "simulate(xMat)\n",
    "thetaMat\n",
    "\n",
    "thetaMat[2,]*sqrt(thetaMat[3,]/(thetaMat[3,] - 1))\n",
    "apply(xMat,2,sd)"
   ]
  },
  {
   "cell_type": "markdown",
   "metadata": {},
   "source": [
    "__Why volatility equals expression:__ <br>\n",
    "Page 37, the expression equals the sd(x). <br>\n",
    "\n",
    "<mark> Is there anything more?"
   ]
  }
 ],
 "metadata": {
  "kernelspec": {
   "display_name": "R",
   "language": "R",
   "name": "ir"
  },
  "language_info": {
   "codemirror_mode": "r",
   "file_extension": ".r",
   "mimetype": "text/x-r-source",
   "name": "R",
   "pygments_lexer": "r",
   "version": "3.5.0"
  }
 },
 "nbformat": 4,
 "nbformat_minor": 2
}
