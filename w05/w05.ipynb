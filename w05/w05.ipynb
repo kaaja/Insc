{
 "cells": [
  {
   "cell_type": "markdown",
   "metadata": {},
   "source": [
    "# 3.4 Pareto distributed loss, reinsurance\n",
    "Sampling of pareto is given in #1 p. 25.\n"
   ]
  },
  {
   "cell_type": "code",
   "execution_count": 2,
   "metadata": {},
   "outputs": [
    {
     "name": "stdout",
     "output_type": "stream",
     "text": [
      "[1] \"MC # \" \"1\"    \n",
      "[1] \"a: \"              \"0\"                \"piRe: \"           \"9.90199565761557\"\n",
      "[1] \"a: \"              \"1\"                \"piRe: \"           \"4.34297993191488\"\n",
      "[1] \"a: \"             \"4\"               \"piRe: \"          \"1.1754734269424\"\n",
      "[1] \"a: \"               \"6\"                 \"piRe: \"           \n",
      "[4] \"0.632891795097093\"\n",
      "[1] \"MC # \" \"2\"    \n",
      "[1] \"a: \"              \"0\"                \"piRe: \"           \"9.96619267271626\"\n",
      "[1] \"a: \"             \"1\"               \"piRe: \"          \"4.5523542104325\"\n",
      "[1] \"a: \"              \"4\"                \"piRe: \"           \"1.12973000421274\"\n",
      "[1] \"a: \"               \"6\"                 \"piRe: \"           \n",
      "[4] \"0.607186066598396\"\n",
      "[1] \"MC # \" \"3\"    \n",
      "[1] \"a: \"              \"0\"                \"piRe: \"           \"10.0154374717663\"\n",
      "[1] \"a: \"              \"1\"                \"piRe: \"           \"4.44753272765946\"\n",
      "[1] \"a: \"              \"4\"                \"piRe: \"           \"1.09608278980339\"\n",
      "[1] \"a: \"               \"6\"                 \"piRe: \"           \n",
      "[4] \"0.605465541467846\"\n",
      "[1] \"MC # \" \"4\"    \n",
      "[1] \"a: \"              \"0\"                \"piRe: \"           \"9.93977723040235\"\n",
      "[1] \"a: \"              \"1\"                \"piRe: \"           \"4.46871319651362\"\n",
      "[1] \"a: \"              \"4\"                \"piRe: \"           \"1.06656327992742\"\n",
      "[1] \"a: \"               \"6\"                 \"piRe: \"           \n",
      "[4] \"0.606182233014502\"\n",
      "[1] \"MC # \" \"5\"    \n",
      "[1] \"a: \"              \"0\"                \"piRe: \"           \"10.0254194609019\"\n",
      "[1] \"a: \"             \"1\"               \"piRe: \"          \"4.4030432111468\"\n",
      "[1] \"a: \"              \"4\"                \"piRe: \"           \"1.10976368652587\"\n",
      "[1] \"a: \"               \"6\"                 \"piRe: \"           \n",
      "[4] \"0.608860967420673\"\n",
      "[1] \"MC # \" \"6\"    \n",
      "[1] \"a: \"              \"0\"                \"piRe: \"           \"10.0736117449555\"\n",
      "[1] \"a: \"            \"1\"              \"piRe: \"         \"4.461291059433\"\n",
      "[1] \"a: \"              \"4\"                \"piRe: \"           \"1.04984554693717\"\n",
      "[1] \"a: \"               \"6\"                 \"piRe: \"           \n",
      "[4] \"0.606654826570861\"\n",
      "[1] \"MC # \" \"7\"    \n",
      "[1] \"a: \"              \"0\"                \"piRe: \"           \"9.92649567603271\"\n",
      "[1] \"a: \"              \"1\"                \"piRe: \"           \"4.53064029145389\"\n",
      "[1] \"a: \"              \"4\"                \"piRe: \"           \"1.14092367070866\"\n",
      "[1] \"a: \"               \"6\"                 \"piRe: \"           \n",
      "[4] \"0.605737653289356\"\n",
      "[1] \"MC # \" \"8\"    \n",
      "[1] \"a: \"              \"0\"                \"piRe: \"           \"9.94352515025735\"\n",
      "[1] \"a: \"             \"1\"               \"piRe: \"          \"4.3742209174135\"\n",
      "[1] \"a: \"              \"4\"                \"piRe: \"           \"1.07618789747891\"\n",
      "[1] \"a: \"               \"6\"                 \"piRe: \"           \n",
      "[4] \"0.616769906697607\"\n",
      "[1] \"MC # \" \"9\"    \n",
      "[1] \"a: \"              \"0\"                \"piRe: \"           \"10.0721466623094\"\n",
      "[1] \"a: \"              \"1\"                \"piRe: \"           \"4.45311386881216\"\n",
      "[1] \"a: \"              \"4\"                \"piRe: \"           \"1.12769693609478\"\n",
      "[1] \"a: \"               \"6\"                 \"piRe: \"           \n",
      "[4] \"0.670355688514023\"\n",
      "[1] \"MC # \" \"10\"   \n",
      "[1] \"a: \"              \"0\"                \"piRe: \"           \"10.0868474466905\"\n",
      "[1] \"a: \"              \"1\"                \"piRe: \"           \"4.52715422327171\"\n",
      "[1] \"a: \"              \"4\"                \"piRe: \"           \"1.12406647134637\"\n",
      "[1] \"a: \"               \"6\"                 \"piRe: \"           \n",
      "[4] \"0.581084431700887\"\n"
     ]
    }
   ],
   "source": [
    "m <- 100000\n",
    "beta <- 2\n",
    "alpha <- 3\n",
    "lambda <- 10\n",
    "as = c(0, 1, 4, 6)\n",
    "\n",
    "computeReinsurancePremium = function(m, beta, alpha, lambda, a){\n",
    "    U = runif(m)\n",
    "    Z = beta*(U**(-1/alpha) - 1)\n",
    "    Zre = pmax(Z - a, 0)\n",
    "    piRe = lambda*mean(Zre)    \n",
    "}\n",
    "\n",
    "numberOfMCs = 10\n",
    "for (MCnumber in 1:numberOfMCs){\n",
    "    print(c('MC # ', MCnumber))\n",
    "    for ( a in as){\n",
    "        piRe = computeReinsurancePremium(m, beta, alpha, lambda, a)\n",
    "        print(c('a: ', a, 'piRe: ', piRe))\n",
    "    }\n",
    "}"
   ]
  },
  {
   "cell_type": "markdown",
   "metadata": {},
   "source": [
    "Pretty stable.\n",
    "# 3.5 Double reinsurance"
   ]
  },
  {
   "cell_type": "code",
   "execution_count": 14,
   "metadata": {},
   "outputs": [
    {
     "name": "stdout",
     "output_type": "stream",
     "text": [
      "[1] \"############## MC  \" \"1\"                   \"############\"       \n",
      "[1] \"a: \" \"1\"  \n",
      "[1] \"b: \" \"2\"  \n",
      "[1] \"piRe: \"            \"0.822820115248204\"\n",
      "[1] \"b: \" \"4\"  \n",
      "[1] \"piRe: \"            \"0.411247561452621\"\n",
      "[1] \"b: \" \"6\"  \n",
      "[1] \"piRe: \"            \"0.228373197093108\"\n",
      "[1] \"a: \" \"2\"  \n",
      "[1] \"b: \" \"2\"  \n",
      "[1] \"piRe: \"            \"0.522676199848743\"\n",
      "[1] \"b: \" \"4\"  \n",
      "[1] \"piRe: \"            \"0.328843984471508\"\n",
      "[1] \"b: \" \"6\"  \n",
      "[1] \"piRe: \"            \"0.205684554160708\"\n",
      "[1] \"############## MC  \" \"2\"                   \"############\"       \n",
      "[1] \"a: \" \"1\"  \n",
      "[1] \"b: \" \"2\"  \n",
      "[1] \"piRe: \"            \"0.805679414615564\"\n",
      "[1] \"b: \" \"4\"  \n",
      "[1] \"piRe: \"            \"0.400570551390887\"\n",
      "[1] \"b: \" \"6\"  \n",
      "[1] \"piRe: \"            \"0.233925094661587\"\n",
      "[1] \"a: \" \"2\"  \n",
      "[1] \"b: \" \"2\"  \n",
      "[1] \"piRe: \"            \"0.546282979512485\"\n",
      "[1] \"b: \" \"4\"  \n",
      "[1] \"piRe: \"            \"0.286499926015859\"\n",
      "[1] \"b: \" \"6\"  \n",
      "[1] \"piRe: \"            \"0.225336407048451\"\n"
     ]
    }
   ],
   "source": [
    "m <- 100000\n",
    "beta <- 2\n",
    "alpha <- 3\n",
    "lambda <- 10\n",
    "as = c(1, 2)\n",
    "bs = c(2, 4, 6)\n",
    "gamma = .5\n",
    "\n",
    "computeReinsurancePremium = function(m, beta, alpha, lambda, a, b, gamma){\n",
    "    U = runif(m)\n",
    "    Z = beta*(U**(-1/alpha) - 1)\n",
    "    Zre1 = pmax(Z - a, 0)\n",
    "    Zre2 = gamma*pmax(Zre1 - b, 0)\n",
    "    piRe2 = lambda*mean(Zre2)\n",
    "}\n",
    "\n",
    "numberOfMCs = 2\n",
    "for (MCnumber in 1:numberOfMCs){\n",
    "    print(c('############## MC  ', MCnumber, '############'))\n",
    "    for (a in as){\n",
    "        print(c('a: ', a))\n",
    "        for ( b in bs){\n",
    "            print(c('b: ', b))\n",
    "            piRe = computeReinsurancePremium(m, beta, alpha, lambda, a, b, gamma)\n",
    "            print(c('piRe: ', piRe))\n",
    "        }\n",
    "    }\n",
    "}"
   ]
  },
  {
   "cell_type": "markdown",
   "metadata": {},
   "source": [
    "I think $a$ and $b$ are deductibles. Higher deuctiibles, gives lower losses.\n",
    "\n",
    "# 3.6 and 3.7 Portfolio risk, identical risk\n"
   ]
  },
  {
   "cell_type": "code",
   "execution_count": 52,
   "metadata": {},
   "outputs": [
    {
     "name": "stdout",
     "output_type": "stream",
     "text": [
      "[1] \"numSd/exact\"       \"0,999283964914094\" \"numMean/exact\"    \n",
      "[4] \"1,00044507420732\" \n",
      "[1] \"qEpsilon\"         \"32,0802944629425\" \"43,7124627870772\"\n"
     ]
    },
    {
     "data": {
      "image/png": "[encoded data removed]",
      "text/plain": [
       "Plot with title “density.default(x = X)”"
      ]
     },
     "metadata": {},
     "output_type": "display_data"
    }
   ],
   "source": [
    "m = 10000\n",
    "lambda = 10\n",
    "xsi = 0\n",
    "sigma = 1\n",
    "\n",
    "\n",
    "portFolioRisk = function(m, lambda, xsi, sigma){\n",
    "    X = 1:m*0\n",
    "    N = rpois(m, lambda)\n",
    "    for (i in 1:m){\n",
    "        Z = rlnorm(N[i], xsi, sigma) # Where can this be found in the book?\n",
    "        X[i] = sum(Z)\n",
    "    }\n",
    "    numericalMean = mean(X)\n",
    "    numericalSd = sd(X)\n",
    "    exactE = 16.487\n",
    "    exactSd = 8.596\n",
    "    print(c('numSd/exact',numericalSd/exactSd, 'numMean/exact',numericalMean/exactE))\n",
    "    return(list(numericalMean, numericalSd, X))\n",
    "}\n",
    "\n",
    "out = portFolioRisk(m, lambda, xsi, sigma)\n",
    "mean = out[1]\n",
    "sd = out[2]\n",
    "X = unlist(out[3])\n",
    "\n",
    "epsilon = c(0.05, 0.01)\n",
    "qEpsilon = sort(X)[(1-epsilon)*m]\n",
    "print(c('qEpsilon', qEpsilon))\n",
    "plot(density(X))\n",
    "abline(v = qEpsilon[1], lty=2, lwd=2)\n",
    "abline(v = qEpsilon[2], lty=2, lwd=2)"
   ]
  }
 ],
 "metadata": {
  "kernelspec": {
   "display_name": "R",
   "language": "R",
   "name": "ir"
  },
  "language_info": {
   "codemirror_mode": "r",
   "file_extension": ".r",
   "mimetype": "text/x-r-source",
   "name": "R",
   "pygments_lexer": "r",
   "version": "3.5.0"
  }
 },
 "nbformat": 4,
 "nbformat_minor": 2
}
