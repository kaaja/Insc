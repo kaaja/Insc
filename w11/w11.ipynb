{
 "cells": [
  {
   "cell_type": "markdown",
   "metadata": {},
   "source": [
    "Ex: 5.15-5.18,5.22-5.23.\n",
    "\n",
    "# 5.15 Cholesky. Simulate normal asset return NYSE coeff data\n"
   ]
  },
  {
   "cell_type": "code",
   "execution_count": 2,
   "metadata": {},
   "outputs": [],
   "source": [
    "x <- matrix(unlist(read.table(\"http://www.uio.no/studier/emner/matnat/math/STK3505/h16/data/newyork.daily.txt\",row.names=NULL,header=TRUE)),ncol=4)"
   ]
  },
  {
   "cell_type": "code",
   "execution_count": 66,
   "metadata": {},
   "outputs": [
    {
     "name": "stdout",
     "output_type": "stream",
     "text": [
      "\n",
      "dim(R)\n",
      " 4689 4\n",
      "covR\n",
      " 9.150302e-05 8.479611e-05 6.38206e-05 8.416001e-05 8.479611e-05 0.0001405015 6.015403e-05 8.812117e-05 6.38206e-05 6.015403e-05 8.190845e-05 6.412773e-05 8.416001e-05 8.812117e-05 6.412773e-05 0.0001543541 \n",
      "            [,1]         [,2]         [,3]       [,4]\n",
      "[1,] 0.009565721 0.0000000000 0.0000000000 0.00000000\n",
      "[2,] 0.008864581 0.0078689682 0.0000000000 0.00000000\n",
      "[3,] 0.006671803 0.0001285175 0.0061138352 0.00000000\n",
      "[4,] 0.008798084 0.0012873156 0.0008608694 0.00863421\n",
      "[1] \"dim(C)\"\n",
      "[1] 4 4\n",
      "[1] \"xi\"\n",
      "[1] 0.0004926828 0.0004576292 0.0003485732 0.0004980227\n",
      "\n",
      " sd Empirical 0.009565721 0.01185333 0.009050329 0.01242393[1] \"dim(eta)\"\n",
      "[1]      4 100000\n",
      "[1] \"dim(Rsim)\"\n",
      "[1]      4 100000\n",
      "[1] \"\"\n",
      "\n",
      "mean/xi 1.003829 0.8887201 1.007696 1.015179 \n",
      "Vol/sdEmprical 1.003443 1.002863 1.003493 1.006756 \n",
      "Cor\n",
      " 1 0.7503236 0.7390886 0.7119159 0.7503236 1 0.5655886 0.6024303 0.7390886 0.5655886 1 0.5760354 0.7119159 0.6024303 0.5760354 1\n",
      "Maybe COrr from empirical\n"
     ]
    },
    {
     "data": {
      "text/html": [
       "<table>\n",
       "<tbody>\n",
       "\t<tr><td>1.0000000</td><td>0.7478557</td><td>0.737189 </td><td>0.708156 </td></tr>\n",
       "\t<tr><td>0.7478557</td><td>1.0000000</td><td>0.560738 </td><td>0.598385 </td></tr>\n",
       "\t<tr><td>0.7371890</td><td>0.5607380</td><td>1.000000 </td><td>0.570325 </td></tr>\n",
       "\t<tr><td>0.7081560</td><td>0.5983850</td><td>0.570325 </td><td>1.000000 </td></tr>\n",
       "</tbody>\n",
       "</table>\n"
      ],
      "text/latex": [
       "\\begin{tabular}{llll}\n",
       "\t 1.0000000 & 0.7478557 & 0.737189  & 0.708156 \\\\\n",
       "\t 0.7478557 & 1.0000000 & 0.560738  & 0.598385 \\\\\n",
       "\t 0.7371890 & 0.5607380 & 1.000000  & 0.570325 \\\\\n",
       "\t 0.7081560 & 0.5983850 & 0.570325  & 1.000000 \\\\\n",
       "\\end{tabular}\n"
      ],
      "text/markdown": [
       "\n",
       "| 1.0000000 | 0.7478557 | 0.737189  | 0.708156  | \n",
       "| 0.7478557 | 1.0000000 | 0.560738  | 0.598385  | \n",
       "| 0.7371890 | 0.5607380 | 1.000000  | 0.570325  | \n",
       "| 0.7081560 | 0.5983850 | 0.570325  | 1.000000  | \n",
       "\n",
       "\n"
      ],
      "text/plain": [
       "     [,1]      [,2]      [,3]     [,4]    \n",
       "[1,] 1.0000000 0.7478557 0.737189 0.708156\n",
       "[2,] 0.7478557 1.0000000 0.560738 0.598385\n",
       "[3,] 0.7371890 0.5607380 1.000000 0.570325\n",
       "[4,] 0.7081560 0.5983850 0.570325 1.000000"
      ]
     },
     "metadata": {},
     "output_type": "display_data"
    },
    {
     "name": "stdout",
     "output_type": "stream",
     "text": [
      "\n",
      "Cor\n"
     ]
    },
    {
     "data": {
      "text/html": [
       "<table>\n",
       "<tbody>\n",
       "\t<tr><td>1.0000000</td><td>0.7503236</td><td>0.7390886</td><td>0.7119159</td></tr>\n",
       "\t<tr><td>0.7503236</td><td>1.0000000</td><td>0.5655886</td><td>0.6024303</td></tr>\n",
       "\t<tr><td>0.7390886</td><td>0.5655886</td><td>1.0000000</td><td>0.5760354</td></tr>\n",
       "\t<tr><td>0.7119159</td><td>0.6024303</td><td>0.5760354</td><td>1.0000000</td></tr>\n",
       "</tbody>\n",
       "</table>\n"
      ],
      "text/latex": [
       "\\begin{tabular}{llll}\n",
       "\t 1.0000000 & 0.7503236 & 0.7390886 & 0.7119159\\\\\n",
       "\t 0.7503236 & 1.0000000 & 0.5655886 & 0.6024303\\\\\n",
       "\t 0.7390886 & 0.5655886 & 1.0000000 & 0.5760354\\\\\n",
       "\t 0.7119159 & 0.6024303 & 0.5760354 & 1.0000000\\\\\n",
       "\\end{tabular}\n"
      ],
      "text/markdown": [
       "\n",
       "| 1.0000000 | 0.7503236 | 0.7390886 | 0.7119159 | \n",
       "| 0.7503236 | 1.0000000 | 0.5655886 | 0.6024303 | \n",
       "| 0.7390886 | 0.5655886 | 1.0000000 | 0.5760354 | \n",
       "| 0.7119159 | 0.6024303 | 0.5760354 | 1.0000000 | \n",
       "\n",
       "\n"
      ],
      "text/plain": [
       "     [,1]      [,2]      [,3]      [,4]     \n",
       "[1,] 1.0000000 0.7503236 0.7390886 0.7119159\n",
       "[2,] 0.7503236 1.0000000 0.5655886 0.6024303\n",
       "[3,] 0.7390886 0.5655886 1.0000000 0.5760354\n",
       "[4,] 0.7119159 0.6024303 0.5760354 1.0000000"
      ]
     },
     "metadata": {},
     "output_type": "display_data"
    }
   ],
   "source": [
    "R = exp(x) - 1 # 4 stocks\n",
    "cat('\\ndim(R)\\n', dim(R))\n",
    "\n",
    "covR = cov(R)\n",
    "cat('\\ncovR\\n', covR, '\\n')\n",
    "\n",
    "C = t(chol(covR))\n",
    "print(C)\n",
    "print('dim(C)')\n",
    "print(dim(C)) # 4,4\n",
    "\n",
    "Rbar = apply(R,2,mean) # mean of the four different stocks\n",
    "xi = Rbar\n",
    "print('xi')\n",
    "print(xi)\n",
    "\n",
    "sdEmpirical = apply(R, 2, sd)\n",
    "cat('\\n sd Empirical', sdEmpirical)\n",
    "\n",
    "m = 100000\n",
    "\n",
    "eta = matrix(rnorm(4*m), 4, m) # m valies for each of the 4 stocks\n",
    "print('dim(eta)')\n",
    "print(dim(eta))\n",
    "\n",
    "eps = C%*%eta # (5.16) p. 147. %*% equals matrix multiplication\n",
    "\n",
    "Rsim = xi + eps\n",
    "print('dim(Rsim)')\n",
    "print(dim(Rsim)) # 1 row = 1 stock\n",
    "\n",
    "Mean = apply(Rsim, 1, mean) # Row average, since one stock represents 1 row in Rsim\n",
    "Vol = apply(Rsim, 1, sd)\n",
    "Cor = cor(t(Rsim))\n",
    "\n",
    "print('')\n",
    "#print(c('mean/xi', Mean/xi, 'Vol/sdEmpirical', VolsdEmpirical, 'Cor', Cor))\n",
    "cat('\\nmean/xi', Mean/xi, '\\nVol/sdEmprical', Vol/sdEmpirical, '\\nCor\\n', Cor)\n",
    "\n",
    "cat('\\nMaybe COrr from empirical\\n')\n",
    "solve(diag(sqrt(diag(var(R)))))%*%var(R)%*%solve(diag(sqrt(diag(var(R)))))\n",
    "cat('\\nCor\\n')\n",
    "Cor\n",
    "\n"
   ]
  },
  {
   "cell_type": "markdown",
   "metadata": {},
   "source": [
    "Mean and std very similar to empircal data. <br>\n",
    "\n",
    "<mark> Is the equation for Cor empirical the matrix equation I have used in the end?\n",
    "    \n",
    "# 5.16. Portfolio NYSE case ex 5.15"
   ]
  },
  {
   "cell_type": "code",
   "execution_count": 12,
   "metadata": {},
   "outputs": [
    {
     "name": "stdout",
     "output_type": "stream",
     "text": [
      "\n",
      " dim(RPortfolio) \n",
      " 1 100000\n",
      "sdPortfolio\n",
      " 0.009240438\n",
      "sd_empircal\n",
      ") 0.009565721 0.01185333 0.009050329 0.01242393"
     ]
    }
   ],
   "source": [
    "R = exp(x) - 1 # x loaded in 5.15\n",
    "covR = cov(R)\n",
    "C = t(chol(covR))\n",
    "xi = apply(R,2,mean)\n",
    "sdEmpirical = apply(R, 2, sd)\n",
    "\n",
    "m = 100000\n",
    "\n",
    "eta = matrix(rnorm(4*m), 4, m)\n",
    "\n",
    "eps = C%*%eta # (5.16) p. 147. %*% equals matrix multiplication\n",
    "\n",
    "Rsim = xi + eps\n",
    "\n",
    "Mean = apply(Rsim, 1, mean) # Row average, since one stock represents 1 row in Rsim\n",
    "Vol = apply(Rsim, 1, sd)\n",
    "Cor = cor(t(Rsim))\n",
    "\n",
    "w = rep(0.25,4)\n",
    "#RPortfolio = apply(w*Rsim, 2, sum) # Unclear\n",
    "RPortfolio = w %*%Rsim # Alternative to book. More understandable.\n",
    "cat('\\n dim(RPortfolio) \\n', dim(RPortfolio))\n",
    "#RPortfolio\n",
    "VolPortfolio = sd(RPortfolio)\n",
    "cat('\\nsdPortfolio\\n', VolPortfolio)\n",
    "\n",
    "cat('\\nsd_empircal\\n)', sdEmpirical)"
   ]
  },
  {
   "cell_type": "markdown",
   "metadata": {},
   "source": [
    "Portfolio has almost as low volatility as the stock with lowest volatility.\n",
    "\n",
    "# 5.18 Mean vector and covariance matrix "
   ]
  },
  {
   "cell_type": "code",
   "execution_count": 30,
   "metadata": {},
   "outputs": [
    {
     "data": {
      "text/html": [],
      "text/latex": [],
      "text/markdown": [],
      "text/plain": [
       "<0 x 0 matrix>"
      ]
     },
     "metadata": {},
     "output_type": "display_data"
    },
    {
     "data": {
      "text/html": [
       "0.222444906619116"
      ],
      "text/latex": [
       "0.222444906619116"
      ],
      "text/markdown": [
       "0.222444906619116"
      ],
      "text/plain": [
       "[1] 0.2224449"
      ]
     },
     "metadata": {},
     "output_type": "display_data"
    },
    {
     "data": {
      "text/html": [
       "0.0796191470838493"
      ],
      "text/latex": [
       "0.0796191470838493"
      ],
      "text/markdown": [
       "0.0796191470838493"
      ],
      "text/plain": [
       "[1] 0.07961915"
      ]
     },
     "metadata": {},
     "output_type": "display_data"
    },
    {
     "data": {
      "text/html": [
       "0.803919400514126"
      ],
      "text/latex": [
       "0.803919400514126"
      ],
      "text/markdown": [
       "0.803919400514126"
      ],
      "text/plain": [
       "[1] 0.8039194"
      ]
     },
     "metadata": {},
     "output_type": "display_data"
    },
    {
     "data": {
      "text/html": [
       "0.405956858404969"
      ],
      "text/latex": [
       "0.405956858404969"
      ],
      "text/markdown": [
       "0.405956858404969"
      ],
      "text/plain": [
       "[1] 0.4059569"
      ]
     },
     "metadata": {},
     "output_type": "display_data"
    }
   ],
   "source": [
    "ERi = .11\n",
    "sdRi = .25\n",
    "corr1 = .8\n",
    "corr23 = .4\n",
    "\n",
    "Rbar = ERi\n",
    "D = diag(1/(1+Rbar))\n",
    "D\n",
    "\n",
    "sigma_ii = sqrt(log(1 + sdRi^2/(1+ERi)^2)) # Formula ex 5.17 p. 174 with i=j\n",
    "sigma_ii \n",
    "xi_i = log(1 +ERi) - sigma_ii^2/2\n",
    "xi_i\n",
    "\n",
    "sig1 = log(1 + corr1*sdRi^2/(1+ERi)^2)\n",
    "\n",
    "sig23 = log(1 + corr23*sdRi^2/(1+ERi)^2)\n",
    "\n",
    "# Assuming sig1 and sig23 equals cov1 and cov23\n",
    "\n",
    "corr1 = sig1/sigma_ii^2\n",
    "corr1\n",
    "corr23 = sig23/sigma_ii^2\n",
    "corr23\n"
   ]
  },
  {
   "cell_type": "markdown",
   "metadata": {},
   "source": [
    "<mark> Unsure correlation calculations."
   ]
  },
  {
   "cell_type": "markdown",
   "metadata": {},
   "source": [
    "# 5.22 and 5.23\n",
    "I solved these, but the solutions didn't save to disk. Will not repeat this. See ex sol's. Unsure of some things, noted in excel file."
   ]
  }
 ],
 "metadata": {
  "kernelspec": {
   "display_name": "R",
   "language": "R",
   "name": "ir"
  },
  "language_info": {
   "codemirror_mode": "r",
   "file_extension": ".r",
   "mimetype": "text/x-r-source",
   "name": "R",
   "pygments_lexer": "r",
   "version": "3.5.0"
  }
 },
 "nbformat": 4,
 "nbformat_minor": 2
}
