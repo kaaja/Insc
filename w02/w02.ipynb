{
 "cells": [
  {
   "cell_type": "markdown",
   "metadata": {},
   "source": [
    "# Exercise 2.9\n"
   ]
  },
  {
   "cell_type": "code",
   "execution_count": 6,
   "metadata": {},
   "outputs": [],
   "source": [
    "# Data\n",
    "xsis = c(.005, 0)\n",
    "sigmas = c(.05, 1)\n",
    "ns = c(100, 10000, 1000000)"
   ]
  },
  {
   "cell_type": "code",
   "execution_count": 39,
   "metadata": {},
   "outputs": [
    {
     "name": "stdout",
     "output_type": "stream",
     "text": [
      "[1]  0,04014412 -0,16293661  0,05886051  0,03026077\n",
      "[1] 110,936392   9,174066 126,340316  91,784617\n"
     ]
    },
    {
     "data": {
      "image/png": "[encoded data removed]"
     },
     "metadata": {},
     "output_type": "display_data"
    }
   ],
   "source": [
    "# Simlations\n",
    "kHats = numeric(length(ns))\n",
    "\n",
    "par(mfrow = c(1,2));\n",
    "for( j in 1:length(xsis)){\n",
    "    sigma = sigmas[j]\n",
    "    xsi = xsis[j]\n",
    "    kExact = exp(4*sigma**2) + 2*exp(3*sigma**2) + 3*exp(2*sigma**2) - 6    \n",
    "\n",
    "    i = 1\n",
    "    for( n in ns){\n",
    "        X = rlnorm(n, xsi, sigma)\n",
    "        Xmean = mean(X)\n",
    "        kHats[i] = mean((X-Xmean)**4)/var(X)**2 - 3\n",
    "        i = i + 1\n",
    "    }\n",
    "    \n",
    "    plot(ns, (kHats/kExact - 1)*100)\n",
    "    #plot(ns, kHats)\n",
    "    #abline(h = kExact, lty=2, lwd=2, col=\"red\")\n",
    "    title(c(\"Percentage difference from exact\", \"xsi \", xsi, 'sigma ', sigma))    \n",
    "    print(c(kExact, kHats))\n",
    "}\n",
    "\n"
   ]
  },
  {
   "cell_type": "markdown",
   "metadata": {},
   "source": [
    "Both models get closer with larger number of simulations.\n",
    "<br>\n",
    "Less difference when larger variation and smaller mean."
   ]
  },
  {
   "cell_type": "markdown",
   "metadata": {},
   "source": [
    "# Exercise 2.10"
   ]
  },
  {
   "cell_type": "markdown",
   "metadata": {},
   "source": [
    "__$m$ Cauchy distributed variables and their average. Sampling this distribution with inverse function.__"
   ]
  },
  {
   "cell_type": "markdown",
   "metadata": {},
   "source": [
    "We have calculated the inverse CFD, which gives X for different prbabilities, $u$. \n",
    "<br>\n",
    "1) Make u: $U\\sim U(0,1)$<br>\n",
    "2) Insert the U's into $F^{-1}(U)$ to get the X'es. <br>\n",
    "3) Calculate $\\overline{X}$"
   ]
  },
  {
   "cell_type": "code",
   "execution_count": 9,
   "metadata": {},
   "outputs": [
    {
     "name": "stdout",
     "output_type": "stream",
     "text": [
      "[1] \"Simulations: \"    \"100\"              \"Mean:\"            \"1.81939839994345\"\n",
      "[1] \"Simulations: \"      \"1000\"               \"Mean:\"             \n",
      "[4] \"-0.424077143758311\"\n",
      "[1] \"Simulations: \"     \"10000\"             \"Mean:\"            \n",
      "[4] \"-3.76034939496747\"\n",
      "[1] \"Simulations: \"     \"1e+06\"             \"Mean:\"            \n",
      "[4] \"0.454726007937755\"\n"
     ]
    }
   ],
   "source": [
    "arrayNumberOfSimulations = c(1e2, 1e3, 1e4, 1e6) \n",
    "beta = 1\n",
    "\n",
    "for (numberOfSimulations in arrayNumberOfSimulations){\n",
    "    U = runif(numberOfSimulations)\n",
    "    X = beta*tan((U - .5)*pi)\n",
    "    Xmean = mean(X)\n",
    "    print(c('Simulations: ', numberOfSimulations, 'Mean:', Xmean))\n",
    "}"
   ]
  },
  {
   "cell_type": "markdown",
   "metadata": {},
   "source": [
    "### Exercise 2.12\n",
    "### Truncated distribution. Sample distribution with minimum value"
   ]
  },
  {
   "cell_type": "code",
   "execution_count": 19,
   "metadata": {},
   "outputs": [
    {
     "name": "stdout",
     "output_type": "stream",
     "text": [
      "[1] \"Mean: \"            \"1,52507119278542\"  \"Std \"             \n",
      "[4] \"0,437885391247674\"\n",
      "[1] \"Mean: \"            \"2,36894486430897\"  \"Std \"             \n",
      "[4] \"0,335937926886236\"\n",
      "[1] \"Mean: \"            \"3,28908397874214\"  \"Std \"             \n",
      "[4] \"0,266773975105257\"\n"
     ]
    }
   ],
   "source": [
    "simulations <- 1e4\n",
    "xsi = 0\n",
    "sigma = 1\n",
    "as = c(1, 2, 3)\n",
    "\n",
    "for( a in as){\n",
    "    p = 1 - pnorm(a, xsi, sigma) # p = 1 - F(a)    \n",
    "    X = qnorm(1 - p + p*runif(simulations), xsi, sigma)\n",
    "    Xmean = mean(X)\n",
    "    Xsd = sd(X)\n",
    "    print(c('Mean: ', Xmean, 'Std ', Xsd))\n",
    "}\n"
   ]
  },
  {
   "cell_type": "markdown",
   "metadata": {},
   "source": [
    "Mean increases with $a$, which suggests that it is not the usual normal distribution sampling.<br>\n",
    "\n",
    "Std goes down with $a$. Fewer values to choose from?"
   ]
  }
 ],
 "metadata": {
  "kernelspec": {
   "display_name": "R",
   "language": "R",
   "name": "ir"
  },
  "language_info": {
   "codemirror_mode": "r",
   "file_extension": ".r",
   "mimetype": "text/x-r-source",
   "name": "R",
   "pygments_lexer": "r",
   "version": "3.5.0"
  }
 },
 "nbformat": 4,
 "nbformat_minor": 2
}
